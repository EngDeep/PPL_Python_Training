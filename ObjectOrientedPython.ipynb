{
  "nbformat": 4,
  "nbformat_minor": 0,
  "metadata": {
    "colab": {
      "name": "ObjectOrientedPython.ipynb",
      "provenance": []
    },
    "kernelspec": {
      "name": "python3",
      "display_name": "Python 3"
    }
  },
  "cells": [
    {
      "cell_type": "markdown",
      "metadata": {
        "id": "LJ3LpvSozpAc",
        "colab_type": "text"
      },
      "source": [
        "# What is object oriented programming?\n",
        "\n",
        "Structuring programs to reflect real world notions of objects and properties and how some objects have both similarities and differences in behavior.\n",
        "\n",
        "## Classes\n",
        "\n",
        "Let us look at some built in classes and objects thus created to understand how they share behavior yet have different data."
      ]
    },
    {
      "cell_type": "code",
      "metadata": {
        "id": "J3hyXIUcznVt",
        "colab_type": "code",
        "colab": {}
      },
      "source": [
        "student = {\"name\": \"Alex\", \"age\": 19, \"major\": \"Mathematics\", \"degree\": \"BachelorOfSciece\", \"gpa\": 3.8}\n",
        "pet = {\"name\": \"Scooby\", \"type\": \"Labrador\", \"age\": 2, \"color\": \"black\"}\n",
        "rainbow_colors= [\"voilet\", \"indigo\", \"blue\", \"green\", \"yellow\", \"orange\", \"red\"]\n",
        "rainbow_color_count = len(rainbow_colors)"
      ],
      "execution_count": 0,
      "outputs": []
    },
    {
      "cell_type": "code",
      "metadata": {
        "id": "qv48ZGhr23lG",
        "colab_type": "code",
        "colab": {}
      },
      "source": [
        "print(type(student), student)\n",
        "print(type(pet), pet)\n",
        "print(type(rainbow_colors), rainbow_colors)\n",
        "print(type(rainbow_color_count), rainbow_color_count)\n"
      ],
      "execution_count": 0,
      "outputs": []
    },
    {
      "cell_type": "code",
      "metadata": {
        "id": "PLm_Bdq6_xDw",
        "colab_type": "code",
        "colab": {}
      },
      "source": [
        "def get_attributes(obj):\n",
        "  return [attr for attr in dir(obj) if not attr.startswith(\"_\")]"
      ],
      "execution_count": 0,
      "outputs": []
    },
    {
      "cell_type": "code",
      "metadata": {
        "id": "6NO-Wbcy6U-t",
        "colab_type": "code",
        "colab": {}
      },
      "source": [
        "print(get_attributes(student))\n",
        "print(get_attributes(pet))\n",
        "print(get_attributes(rainbow_colors))\n",
        "print(get_attributes(rainbow_color_count))"
      ],
      "execution_count": 0,
      "outputs": []
    },
    {
      "cell_type": "code",
      "metadata": {
        "id": "3xQmmxtB9txE",
        "colab_type": "code",
        "colab": {}
      },
      "source": [
        "rainbow_colors.sort()\n",
        "print(rainbow_colors)\n",
        "student.sort()"
      ],
      "execution_count": 0,
      "outputs": []
    },
    {
      "cell_type": "code",
      "metadata": {
        "id": "JL7bG8uNB9Mc",
        "colab_type": "code",
        "colab": {}
      },
      "source": [
        "print(student.items())\n",
        "print(rainbow_colors.items())"
      ],
      "execution_count": 0,
      "outputs": []
    },
    {
      "cell_type": "markdown",
      "metadata": {
        "id": "ZnNqn8GEBheJ",
        "colab_type": "text"
      },
      "source": [
        "### Objects belonging to the same class have common attributes. \n",
        "\n",
        "These attributes can be either functions (also called methods) or data (variables).\n",
        "\n",
        "These common attributes give all objects of a class common behavior.\n",
        "\n",
        "For example, all lists can be sorted, reversed, you can calculate their length and do comprehensions on them."
      ]
    },
    {
      "cell_type": "markdown",
      "metadata": {
        "id": "5qNQOtl8vipq",
        "colab_type": "text"
      },
      "source": [
        "### Let's define a basic person class. The simplest class definition can look like:"
      ]
    },
    {
      "cell_type": "code",
      "metadata": {
        "id": "epIQv3ZBBXot",
        "colab_type": "code",
        "colab": {}
      },
      "source": [
        "class Person:\n",
        "  pass"
      ],
      "execution_count": 0,
      "outputs": []
    },
    {
      "cell_type": "markdown",
      "metadata": {
        "id": "fWDjmhiGwTTB",
        "colab_type": "text"
      },
      "source": [
        "Now, we can create objects of the person class."
      ]
    },
    {
      "cell_type": "code",
      "metadata": {
        "id": "7E_SPrX7GlEJ",
        "colab_type": "code",
        "colab": {}
      },
      "source": [
        "p1 = Person()\n",
        "p2 = Person()"
      ],
      "execution_count": 0,
      "outputs": []
    },
    {
      "cell_type": "code",
      "metadata": {
        "id": "VcDNIQo_HKUS",
        "colab_type": "code",
        "colab": {}
      },
      "source": [
        "type(p1)"
      ],
      "execution_count": 0,
      "outputs": []
    },
    {
      "cell_type": "code",
      "metadata": {
        "id": "AWC2i4hywt8i",
        "colab_type": "code",
        "colab": {}
      },
      "source": [
        "isinstance(p2, Person)"
      ],
      "execution_count": 0,
      "outputs": []
    },
    {
      "cell_type": "code",
      "metadata": {
        "id": "NVFK2jxKwx-5",
        "colab_type": "code",
        "colab": {}
      },
      "source": [
        "p1 == p2"
      ],
      "execution_count": 0,
      "outputs": []
    },
    {
      "cell_type": "markdown",
      "metadata": {
        "id": "k9lP_gmhxkVm",
        "colab_type": "text"
      },
      "source": [
        "## Class objects support two kinds of operations: attribute references and instantiation. \n",
        "https://docs.python.org/3/tutorial/classes.html\n",
        "\n",
        "Let's look at examples of both"
      ]
    },
    {
      "cell_type": "code",
      "metadata": {
        "id": "ERaasbfbxhiq",
        "colab_type": "code",
        "colab": {}
      },
      "source": [
        "class Person:\n",
        "  species = \"Homo Sapeins\" # property shared across all objects\n",
        "\n",
        "  def greet(self):\n",
        "    # self is a reference to the instance calling this method\n",
        "    return f\"Hello friend!\"\n",
        "\n",
        "p1 = Person()\n",
        "p2 = Person()\n",
        "print(p1.species)\n",
        "print(p2.greet())"
      ],
      "execution_count": 0,
      "outputs": []
    },
    {
      "cell_type": "code",
      "metadata": {
        "id": "81WGtXLw0enS",
        "colab_type": "code",
        "colab": {}
      },
      "source": [
        "print(p1 == p2)\n",
        "print(p1.species == p2.species)"
      ],
      "execution_count": 0,
      "outputs": []
    },
    {
      "cell_type": "markdown",
      "metadata": {
        "id": "hARyQq_LxjXm",
        "colab_type": "text"
      },
      "source": [
        "### Instantiation operation\n",
        "\n",
        "In the Person class above, when you call Person(), python gives you an empty object. Each time you call `Person()`, a new object is returned. When you call `.greet()` on one such object, Python passes a reference of the object itself in `self`. \n",
        "\n",
        "If you want to construct an object with some state / parameters, you can define the `__init__` method\n"
      ]
    },
    {
      "cell_type": "code",
      "metadata": {
        "id": "-KIqZfNiCvzF",
        "colab_type": "code",
        "colab": {}
      },
      "source": [
        "class Person:\n",
        "  species = \"Homo Sapeins\" # property shared across all objects\n",
        "  \n",
        "  def __init__(self, name):\n",
        "    self.name = name  # store given name in the instance\n",
        "\n",
        "  def greet(self, person):\n",
        "    # self is a reference to the instance calling this method\n",
        "    return \"Hello \" + person.name + \"! My name is \" + self.name  # use instance specific data"
      ],
      "execution_count": 0,
      "outputs": []
    },
    {
      "cell_type": "code",
      "metadata": {
        "id": "aRH2BUPJC1Gh",
        "colab_type": "code",
        "colab": {}
      },
      "source": [
        "p1 = Person(\"Tom\")\n",
        "p2 = Person(\"Jerry\")\n",
        "p1.greet(p2)"
      ],
      "execution_count": 0,
      "outputs": []
    },
    {
      "cell_type": "markdown",
      "metadata": {
        "id": "KQWpy_E8AH8Z",
        "colab_type": "text"
      },
      "source": [
        "You can modify an objects attributes after instantiation as well. General convention is that an attribute with an _ prefix is intended to not be modified by a caller outside."
      ]
    },
    {
      "cell_type": "code",
      "metadata": {
        "id": "cmUsIWCzAd0m",
        "colab_type": "code",
        "colab": {}
      },
      "source": [
        "from datetime import datetime, date\n",
        "\n",
        "class Person:\n",
        "  species = \"Homo Sapeins\" # property shared across all objects\n",
        "  \n",
        "  def __init__(self, name, dob, ssn=None):\n",
        "    self.name = name\n",
        "    self._dob = dob\n",
        "    self._ssn = ssn\n",
        "\n",
        "  def greet(self, person):\n",
        "    # self is a reference to the instance calling this method\n",
        "    return \"Hello \" + person.name + \"! My name is \" + self.name \n",
        "\n",
        "  def age(self):\n",
        "      return datetime.now().date().year - self._dob.year"
      ],
      "execution_count": 0,
      "outputs": []
    },
    {
      "cell_type": "code",
      "metadata": {
        "id": "vsIzS5BPAm_v",
        "colab_type": "code",
        "colab": {}
      },
      "source": [
        "p1 = Person(\"Shashank\", date(2000, 1, 1), \"abc-def-ghij\")\n",
        "print(p1.greet(p2))\n",
        "print(p1.age())\n",
        "p1.name = \"Shashank Singh\"\n",
        "p1.greet(p2)\n",
        "\n",
        "p1._ssn = \"111-11-1111\" # not advisable unless you know what you are doing..."
      ],
      "execution_count": 0,
      "outputs": []
    },
    {
      "cell_type": "markdown",
      "metadata": {
        "id": "j3AFX7oDYbfG",
        "colab_type": "text"
      },
      "source": [
        "## Excercise\n",
        "\n",
        "Create a function that finds the youngest and the oldest person from a list of people and the makes the oldest greet the youngest.\n",
        "\n",
        "\n",
        "\n",
        "\n"
      ]
    },
    {
      "cell_type": "code",
      "metadata": {
        "id": "nE-IQC4vYa2T",
        "colab_type": "code",
        "colab": {}
      },
      "source": [
        "def old_greets_new(people):\n",
        "  oldest = youngest = people[0]\n",
        "  for person in people:\n",
        "    if person.age() < youngest.age():\n",
        "      youngest = person\n",
        "    elif person.age() > oldest.age():\n",
        "      oldest = person \n",
        "  return oldest.greet(youngest)\n",
        "\n",
        "legends = [Person(\"Maradona\", date(1960, 10, 30)), Person(\"Zidane\", date(1972, 6, 23)), Person(\"Messi\", date(1987, 6, 24))]\n",
        "print(old_greets_new(legends))"
      ],
      "execution_count": 0,
      "outputs": []
    },
    {
      "cell_type": "markdown",
      "metadata": {
        "id": "edtnEM5CG3dW",
        "colab_type": "text"
      },
      "source": [
        "# Inheritance\n",
        "\n"
      ]
    },
    {
      "cell_type": "code",
      "metadata": {
        "id": "s5WGFNOfIMvq",
        "colab_type": "code",
        "colab": {}
      },
      "source": [
        "class Person:\n",
        "  def __init__(self, name):\n",
        "    self.name = name\n",
        "\n",
        "  def greet(self, person):\n",
        "    # self is a reference to the instance calling this method\n",
        "    return \"Hello \" + person.name + \"! My name is \" + self.name \n",
        "\n",
        "\n",
        "class Student(Person):  # A student inherits properties from person\n",
        "\n",
        "  def __init__(self, name):\n",
        "    super().__init__(name)  # call the parent class constructor\n",
        "    self.score = 0\n",
        "    self.assignments = []\n",
        "\n",
        "  def do_assignment(self, assignment):\n",
        "    self.assignments.append(\"solved: \" + assignment)\n",
        "\n",
        "\n",
        "class Professor(Person):  # A professor is also a person, inheriting person like behavior and properties\n",
        "\n",
        "  def __init__(self, name, dept):\n",
        "    super().__init__(name)  # call the parent class constructor\n",
        "    self.dept = dept\n",
        "\n",
        "  def grade_assignments(self, student):\n",
        "    for assignment in student.assignments:\n",
        "      student.score += 1\n"
      ],
      "execution_count": 0,
      "outputs": []
    },
    {
      "cell_type": "code",
      "metadata": {
        "id": "NKdblbEdIP4A",
        "colab_type": "code",
        "colab": {}
      },
      "source": [
        "sam = Student(\"Sam\")\n",
        "sam.do_assignment(\"Lesson1\")\n",
        "brooks = Professor(\"Brooks\", \"computer-science\")\n",
        "brooks.grade_assignments(sam)\n",
        "sam.score"
      ],
      "execution_count": 0,
      "outputs": []
    },
    {
      "cell_type": "code",
      "metadata": {
        "id": "O0kd1pJHRrGP",
        "colab_type": "code",
        "colab": {}
      },
      "source": [
        "isinstance(sam, Person)"
      ],
      "execution_count": 0,
      "outputs": []
    },
    {
      "cell_type": "code",
      "metadata": {
        "id": "8QzjMiusSf_4",
        "colab_type": "code",
        "colab": {}
      },
      "source": [
        "isinstance(brooks, Person)"
      ],
      "execution_count": 0,
      "outputs": []
    },
    {
      "cell_type": "code",
      "metadata": {
        "id": "Jaonoas0SjiY",
        "colab_type": "code",
        "colab": {}
      },
      "source": [
        "isinstance(brooks, Student)"
      ],
      "execution_count": 0,
      "outputs": []
    },
    {
      "cell_type": "code",
      "metadata": {
        "id": "tOimkaRoSmsP",
        "colab_type": "code",
        "colab": {}
      },
      "source": [
        "brooks.greet(sam)"
      ],
      "execution_count": 0,
      "outputs": []
    }
  ]
}