{
  "nbformat": 4,
  "nbformat_minor": 0,
  "metadata": {
    "colab": {
      "name": "python_file_handling.ipynb",
      "provenance": [],
      "collapsed_sections": []
    },
    "kernelspec": {
      "name": "python3",
      "display_name": "Python 3"
    }
  },
  "cells": [
    {
      "cell_type": "markdown",
      "metadata": {
        "id": "hKCc0gncbfHC",
        "colab_type": "text"
      },
      "source": [
        "### **Pre-requisities for this class. Please execute this cell before starting the class**"
      ]
    },
    {
      "cell_type": "code",
      "metadata": {
        "id": "bcVyRdN6biFX",
        "colab_type": "code",
        "colab": {}
      },
      "source": [
        "def write_file(file_name,content):\n",
        "  with open(file_name,\"w\") as f:\n",
        "    f.write(content)"
      ],
      "execution_count": 0,
      "outputs": []
    },
    {
      "cell_type": "code",
      "metadata": {
        "id": "KlpFDzSubj-e",
        "colab_type": "code",
        "colab": {}
      },
      "source": [
        "text = '''Teacher: Why are you late, raghu?\n",
        "Raghu: Because of the sign\n",
        "Teacher: What sign?\n",
        "Raghu: The one that says \"School Ahead, Go slow\"'''\n",
        "write_file(\"funny.txt\",text)"
      ],
      "execution_count": 0,
      "outputs": []
    },
    {
      "cell_type": "code",
      "metadata": {
        "id": "AgOj1azPbl8P",
        "colab_type": "code",
        "colab": {}
      },
      "source": [
        "text='''Two roads diverged in a yellow wood,\n",
        "And sorry I could not travel both\n",
        "And be one traveler, long I stood\n",
        "And looked down one as far as I could\n",
        "To where it bent in the undergrowth;\n",
        "\n",
        "Then took the other, as just as fair,\n",
        "And having perhaps the better claim,\n",
        "Because it was grassy and wanted wear;\n",
        "Though as for that the passing there\n",
        "Had worn them really about the same,\n",
        "\n",
        "And both that morning equally lay\n",
        "In leaves no step had trodden black.\n",
        "Oh, I kept the first for another day!\n",
        "Yet knowing how way leads on to way,\n",
        "I doubted if I should ever come back.\n",
        "\n",
        "I shall be telling this with a sigh\n",
        "Somewhere ages and ages hence:\n",
        "Two roads diverged in a wood, and I—\n",
        "I took the one less traveled by,\n",
        "And that has made all the difference.'''\n",
        "write_file(\"poem.txt\",text)"
      ],
      "execution_count": 0,
      "outputs": []
    },
    {
      "cell_type": "code",
      "metadata": {
        "id": "9A4RjrSYboEu",
        "colab_type": "code",
        "colab": {}
      },
      "source": [
        "text='''rohit,9\n",
        "shakib,56\n",
        "babar,56\n",
        "rohit,120\n",
        "rohit,105\n",
        "shakib,78\n",
        "rohit,140\n",
        "babar,45\n",
        "rohit,130\n",
        "shakib,102\n",
        "babar,120\n",
        "babar,5\n",
        "shakib,72\n",
        "babar,67'''\n",
        "write_file(\"scores.csv\",text)"
      ],
      "execution_count": 0,
      "outputs": []
    },
    {
      "cell_type": "code",
      "metadata": {
        "id": "mKTnIB7kbrjn",
        "colab_type": "code",
        "colab": {}
      },
      "source": [
        "text='''Company Name,Price,Earnings Per Share, Book Value\n",
        "Reliance,1467,66,653\n",
        "Tata Steel,391,89,572\n",
        "Infosys,650,35,147\n",
        "Axis Bank,739,19,263\n",
        "Bajaj Finance,4044,69,341'''\n",
        "write_file(\"stocks.csv\",text)"
      ],
      "execution_count": 0,
      "outputs": []
    },
    {
      "cell_type": "markdown",
      "metadata": {
        "id": "f53OjP3Q6Cea",
        "colab_type": "text"
      },
      "source": [
        "### **Reading a text file**\n"
      ]
    },
    {
      "cell_type": "code",
      "metadata": {
        "id": "VmsYaI0VlUCa",
        "colab_type": "code",
        "outputId": "4e57ce91-dc37-4944-bae0-cbb316308e1d",
        "colab": {
          "base_uri": "https://localhost:8080/",
          "height": 137
        }
      },
      "source": [
        "f=open(\"funny.txt\",\"r\")\n",
        "for line in f:\n",
        "    print(line)\n",
        "f.close()"
      ],
      "execution_count": 0,
      "outputs": [
        {
          "output_type": "stream",
          "text": [
            "Teacher: Why are you late, raghu?\n",
            "\n",
            "Raghu: Because of the sign\n",
            "\n",
            "Teacher: What sign?\n",
            "\n",
            "Raghu: The one that says \"School Ahead, Go slow\"\n"
          ],
          "name": "stdout"
        }
      ]
    },
    {
      "cell_type": "markdown",
      "metadata": {
        "id": "dUKdbaVZ6V6A",
        "colab_type": "text"
      },
      "source": [
        "### **Using readlines() function to read  all lines into a list**"
      ]
    },
    {
      "cell_type": "code",
      "metadata": {
        "id": "nZYcodV2wJmj",
        "colab_type": "code",
        "outputId": "a74119e7-190b-410e-c694-e2176e44c51b",
        "colab": {
          "base_uri": "https://localhost:8080/",
          "height": 54
        }
      },
      "source": [
        "f=open(\"funny.txt\",\"r\")\n",
        "lines = f.readlines()\n",
        "print(lines)\n"
      ],
      "execution_count": 0,
      "outputs": [
        {
          "output_type": "stream",
          "text": [
            "['Teacher: Why are you late, raghu?\\n', 'Raghu: Because of the sign\\n', 'Teacher: What sign?\\n', 'Raghu: The one that says \"School Ahead, Go slow\"']\n"
          ],
          "name": "stdout"
        }
      ]
    },
    {
      "cell_type": "markdown",
      "metadata": {
        "id": "osfegWId6j4Y",
        "colab_type": "text"
      },
      "source": [
        "### **Write file**"
      ]
    },
    {
      "cell_type": "code",
      "metadata": {
        "id": "2nDjFdVV6pCx",
        "colab_type": "code",
        "colab": {}
      },
      "source": [
        "f=open(\"love.txt\",\"w\")\n",
        "f.write(\"I love python\")\n",
        "f.close()"
      ],
      "execution_count": 0,
      "outputs": []
    },
    {
      "cell_type": "code",
      "metadata": {
        "id": "xJEgGKRL7Kh7",
        "colab_type": "code",
        "colab": {}
      },
      "source": [
        "f=open(\"love.txt\",\"w\")\n",
        "f.write(\"I love javascript\")\n",
        "f.close()"
      ],
      "execution_count": 0,
      "outputs": []
    },
    {
      "cell_type": "markdown",
      "metadata": {
        "id": "EoCtd5yD7SHY",
        "colab_type": "text"
      },
      "source": [
        "### **Using append mode to avoid overwriting existing file content**"
      ]
    },
    {
      "cell_type": "code",
      "metadata": {
        "id": "hjZEwAWf7XSm",
        "colab_type": "code",
        "colab": {}
      },
      "source": [
        "# You can use append mode to stop having previous lines overwritten\n",
        "f=open(\"love.txt\",\"a\")\n",
        "f.write(\"I love python\")\n",
        "f.close()"
      ],
      "execution_count": 0,
      "outputs": []
    },
    {
      "cell_type": "markdown",
      "metadata": {
        "id": "0HBzDzIc7jhL",
        "colab_type": "text"
      },
      "source": [
        "### **writelines to write multiple lines in one shot**"
      ]
    },
    {
      "cell_type": "code",
      "metadata": {
        "id": "B_Ymbl1G7rgy",
        "colab_type": "code",
        "colab": {}
      },
      "source": [
        "f=open(\"love.txt\",\"w\")\n",
        "f.writelines([\"I love C++\\n\",\"I love scala\"])\n",
        "f.close()"
      ],
      "execution_count": 0,
      "outputs": []
    },
    {
      "cell_type": "markdown",
      "metadata": {
        "id": "aNlwrDQx7wUj",
        "colab_type": "text"
      },
      "source": [
        "### **With statement**"
      ]
    },
    {
      "cell_type": "markdown",
      "metadata": {
        "id": "eyBsetSAb2bP",
        "colab_type": "text"
      },
      "source": [
        "In previous lines of code every time you open a file you need to close it by calling .close(). Closing file takes care of resource cleanup etc. Alternatively we can use with statement which will take care of closing file so you don't have to do it explicitly. Below code snippet shows how to use with statement for file handling."
      ]
    },
    {
      "cell_type": "code",
      "metadata": {
        "id": "BYbMgK2z7ziZ",
        "colab_type": "code",
        "outputId": "0d8c0f94-76ef-4007-c174-15b660c8bab3",
        "colab": {
          "base_uri": "https://localhost:8080/",
          "height": 137
        }
      },
      "source": [
        "with open(\"funny.txt\",\"r\") as f:\n",
        "    for line in f:\n",
        "        print(line)"
      ],
      "execution_count": 0,
      "outputs": [
        {
          "output_type": "stream",
          "text": [
            "Teacher: Why are you late, raghu?\n",
            "\n",
            "Raghu: Because of the sign\n",
            "\n",
            "Teacher: What sign?\n",
            "\n",
            "Raghu: The one that says \"School Ahead, Go slow\"\n"
          ],
          "name": "stdout"
        }
      ]
    },
    {
      "cell_type": "markdown",
      "metadata": {
        "id": "NnIMZgVZ73Cr",
        "colab_type": "text"
      },
      "source": [
        "### **Cricket score analytics project**"
      ]
    },
    {
      "cell_type": "markdown",
      "metadata": {
        "id": "6doXKQf-8IRq",
        "colab_type": "text"
      },
      "source": [
        "Cricket world cup scores for individual players are given in scores.csv file in below format. \n",
        "\n",
        "|player name|score|\n",
        "|-----------|-----|\n",
        "|rohit|9|\n",
        "|sakib|56|\n",
        "|babar|56|\n",
        "|rohit|120|\n",
        "|rohit|105|\n",
        "|shakib|78|\n",
        "\n",
        "You need to find out min, max and average score for every player."
      ]
    },
    {
      "cell_type": "code",
      "metadata": {
        "id": "C38vMObt8u7b",
        "colab_type": "code",
        "outputId": "2d6d9218-59ca-4e25-8e59-f24f44f7824d",
        "colab": {
          "base_uri": "https://localhost:8080/",
          "height": 34
        }
      },
      "source": [
        "player_scores = {}\n",
        "with open(\"scores.csv\",\"r\") as f:\n",
        "    for line in f:\n",
        "        tokens = line.split(',')\n",
        "        player = tokens[0]\n",
        "        score = int(tokens[1])\n",
        "        if player in player_scores:\n",
        "            player_scores[player].append(score)\n",
        "        else:\n",
        "            player_scores[player] = [score]\n",
        "\n",
        "print(player_scores)"
      ],
      "execution_count": 0,
      "outputs": [
        {
          "output_type": "stream",
          "text": [
            "{'rohit': [9, 120, 105, 140, 130], 'shakib': [56, 78, 102, 72], 'babar': [56, 45, 120, 5, 67]}\n"
          ],
          "name": "stdout"
        }
      ]
    },
    {
      "cell_type": "code",
      "metadata": {
        "id": "1vr2mNYx9LzM",
        "colab_type": "code",
        "outputId": "cf9b4586-865d-4869-cee7-4d8d7c43db05",
        "colab": {
          "base_uri": "https://localhost:8080/",
          "height": 68
        }
      },
      "source": [
        "for player, score_list in player_scores.items():\n",
        "    min_score=min(score_list)\n",
        "    max_score=max(score_list)\n",
        "    avg_score=sum(score_list)/len(score_list)\n",
        "\n",
        "    print(f\"{player}==>Min:{min_score}, Max:{max_score}, Avg:{avg_score}\")"
      ],
      "execution_count": 0,
      "outputs": [
        {
          "output_type": "stream",
          "text": [
            "rohit==>Min:9, Max:140, Avg:100.8\n",
            "shakib==>Min:56, Max:102, Avg:77.0\n",
            "babar==>Min:5, Max:120, Avg:58.6\n"
          ],
          "name": "stdout"
        }
      ]
    },
    {
      "cell_type": "markdown",
      "metadata": {
        "id": "HqGkzGcV-Ylv",
        "colab_type": "text"
      },
      "source": [
        "# **Exercise**"
      ]
    },
    {
      "cell_type": "markdown",
      "metadata": {
        "id": "_JrYr4Nx-f9t",
        "colab_type": "text"
      },
      "source": [
        "(1) **poem.txt** contains famous poem \"Road not taken\" by poet Robert Frost. You have to read this file in your python program and find out words with maximum occurance."
      ]
    },
    {
      "cell_type": "markdown",
      "metadata": {
        "id": "h8xJ7cUK-rO1",
        "colab_type": "text"
      },
      "source": [
        "(2) **stocks.csv** contains stock price, earnings per share and book value. You are writing a stock market application that will process this file and create a new file with financial metrics such as pe ratio and price to book ratio. These are calculated as,\n",
        "\n",
        "```\n",
        "pe ratio = price / earnings per share\n",
        "price to book ratio = price / book value\n",
        "```\n",
        "Your input format (stocks.csv) is,\n",
        "\n",
        "\n",
        "|Company Name|Price|Earnings Per Share|Book Value|\n",
        "|-------|----------|-------|----------|\n",
        "|Reliance|1467|66|653|\n",
        "|Tata Steel|391|89|572|\n",
        "\n",
        "\n",
        "Output.csv should look like this,\n",
        "\n",
        "\n",
        "|Company Name|PE Ratio|PB Ratio|\n",
        "|-------|----------|-------|\n",
        "|Reliance|22.23|2.25|\n",
        "|Tata Steel|4.39|0.68|\n"
      ]
    }
  ]
}